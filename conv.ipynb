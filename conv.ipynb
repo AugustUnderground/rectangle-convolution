{
 "cells": [
  {
   "cell_type": "markdown",
   "metadata": {
    "colab_type": "text",
    "id": "_8hmcEeihvUT"
   },
   "source": [
    "# Convolution of Rectangles\n",
    "\n",
    "Examining the effects of geometric operations on Rectangles\n",
    "by convolution and how this can be expressed programatically in Python."
   ]
  },
  {
   "cell_type": "code",
   "execution_count": 1,
   "metadata": {
    "colab": {},
    "colab_type": "code",
    "id": "ZeAWPKZNGDYP"
   },
   "outputs": [],
   "source": [
    "%matplotlib inline"
   ]
  },
  {
   "cell_type": "code",
   "execution_count": 2,
   "metadata": {
    "colab": {},
    "colab_type": "code",
    "id": "FMRBWCrxGnqT"
   },
   "outputs": [],
   "source": [
    "import numpy as np\n",
    "import sympy as sym\n",
    "import scipy as sp\n",
    "from scipy import signal\n",
    "\n",
    "import matplotlib.pyplot as plt"
   ]
  },
  {
   "cell_type": "markdown",
   "metadata": {
    "colab_type": "text",
    "id": "VJKtqMbjG2nU"
   },
   "source": [
    "# Numerical Convoltion with SciPy\n",
    "\n",
    "Information on the included convolution function with `scipy` can be\n",
    "found in the \n",
    "[documentation](https://docs.scipy.org/doc/scipy/reference/generated/scipy.signal.convolve.html)."
   ]
  },
  {
   "cell_type": "markdown",
   "metadata": {
    "colab_type": "text",
    "id": "VRwic8F6G_Es"
   },
   "source": [
    "## 1D Convolution of 2 Rectangles\n",
    "\n",
    "In the following, $2$ rectangles, $R_{1}$ and $R_{2}$, are represented by \n",
    "_rectangular pulse_ signals describing the rectangle that is being moved,\n",
    "and the constraint the other rectangle imposes.\n",
    "In terms of signal processing, $R_{1}$ is the _signal_ and $R_{2}$ is the \n",
    "_filter_."
   ]
  },
  {
   "cell_type": "markdown",
   "metadata": {
    "colab_type": "text",
    "id": "HBck0BzwLacg"
   },
   "source": [
    "### Overlap\n",
    "\n",
    "$R_{1}$ (`R1`) in this example is the rectangle that\n",
    "gets _moved_ from left to right. With $R_{1,l} = 100$ and $R_{1,r} = 200$.\n",
    "$R_{2}$ (`R2`) is any rectangle, imposing an overlap constraint on $R_{1}$. \n",
    "In this case, $R_{2}$ is defined by $R_{2,l} = 120$ and $R_{2,r} = 180$.\n",
    "Where the result of the convolution (`res`) of these signals is $0$ whenever\n",
    "this constaint is not violated."
   ]
  },
  {
   "cell_type": "code",
   "execution_count": 3,
   "metadata": {
    "colab": {},
    "colab_type": "code",
    "id": "v7wkPNu2dL3A"
   },
   "outputs": [],
   "source": [
    "R1 = lambda x: 0. if x <= 100 or x >= 200 else 1.\n",
    "R2 = lambda x: 0. if x <= 120 or x >= 180 else 1.\n",
    "\n",
    "x = np.arange(301)                          # vector from 0 to 300 (discrete)\n",
    "R1_eval = [R1(x_) for x_ in x]              # Evaluates R1 for each value in t\n",
    "R2_eval = [R2(x_) for x_ in x]              # Evaluates R2 for each value in t\n",
    "#R2_eval = signal.unit_impulse(300, 150)    # For a rectangle with minimal length (dirac)\n",
    "\n",
    "# Divide by sum over filter, to scale back y-values of convolution back to [0 ... 1]\n",
    "res = signal.convolve(R1_eval, R2_eval, mode='same') / sum(R2_eval)"
   ]
  },
  {
   "cell_type": "markdown",
   "metadata": {
    "colab_type": "text",
    "id": "KXsKFgoGMeTd"
   },
   "source": [
    "#### Plot the Result"
   ]
  },
  {
   "cell_type": "code",
   "execution_count": 5,
   "metadata": {
    "colab": {
     "base_uri": "https://localhost:8080/",
     "height": 297
    },
    "colab_type": "code",
    "id": "5iMGICCkJSiz",
    "outputId": "05b2a5c3-dfef-45bb-c056-8d072b27bf5c"
   },
   "outputs": [
    {
     "data": {
      "image/png": "[encoded data removed]",
      "text/plain": [
       "<Figure size 432x288 with 3 Axes>"
      ]
     },
     "metadata": {
      "needs_background": "light"
     },
     "output_type": "display_data"
    }
   ],
   "source": [
    "fig, (ax_R1, ax_R2, ax_res) = plt.subplots(3, 1, sharex=True)\n",
    "\n",
    "ax_R1.plot(R1_eval)\n",
    "ax_R1.set_title('$R_{1}$: Moving')\n",
    "ax_R1.margins(0, 0.1)\n",
    "ax_R2.plot(R2_eval)\n",
    "ax_R2.set_title('$R_{2}$: Constraining')\n",
    "ax_R2.margins(0, 0.1)\n",
    "ax_res.plot(res)\n",
    "ax_res.set_title('Legal Placement')\n",
    "ax_res.margins(0, 0.1)\n",
    "fig.tight_layout()\n",
    "#fig.show()"
   ]
  },
  {
   "cell_type": "markdown",
   "metadata": {
    "colab_type": "text",
    "id": "HecqhqMeLjUp"
   },
   "source": [
    "### Minimal Edge Distance\n",
    "$R_{1}$ is again the rectangle, which is moved along the $x$-axis, \n",
    "with $R_{1,l} = 140$ and $R_{1,r} = 160$.\n",
    "$R_{2}$ keeps the same dimensions as above, however this time\n",
    "it is described by the minium legal edge dsitance to any other shape.\n",
    "In this example it is sepcified as $2$ arbitrary units in either direction \n",
    "of its edge.\n",
    "\n",
    "**Note**: The functions from above can also be defined by multiplying \n",
    "the _boolean_ return value of `(x < y)` by a floating point number, denoted by \n",
    "the `.` after the numeral.\n",
    "A boolean expression returns `True` or `False` which may be interpreted as\n",
    "`1` and `0` respectively.\n",
    "If multiplied by `1.`, the datatype is converted to `float`\n",
    "and the value may be used further in calculations.\n",
    "\n",
    "$$ \n",
    "R_{1}(x) = 1 \\cdot \n",
    "\\begin{cases}\n",
    "    1, & \\text{if } x \\lt 160 \\\\\n",
    "    0, & \\text{otherwise}\n",
    "\\end{cases} - 1 \\cdot\n",
    "\\begin{cases}\n",
    "    1, & \\text{if } x \\lt 140 \\\\\n",
    "    0, & \\text{otherwise}\n",
    "\\end{cases}\n",
    "$$"
   ]
  },
  {
   "cell_type": "code",
   "execution_count": 6,
   "metadata": {
    "colab": {},
    "colab_type": "code",
    "id": "l7GYpOUSf2mV"
   },
   "outputs": [],
   "source": [
    "R1 = lambda x: (1. * (x < 160)) - (1. * (x < 140))\n",
    "R2 = lambda x: ((1. * (x < 122)) - (1. * (x < 118)))\\\n",
    "             + ((1. * (x < 182)) - (1. * (x < 178)))   # '\\' denotes a new line\n",
    "\n",
    "x = np.linspace(0,300,num=3000)     # vector from 0 to 300 (pseudo continuous)\n",
    "R1_eval = [R1(x_) for x_ in x]      # Evaluates R1 for 3000 steps between 0 and 300\n",
    "R2_eval = [R2(x_) for x_ in x]      # Evaluates R2 for 3000 steps between 0 and 300\n",
    "\n",
    "# 1/2 * Σ(R2_eval) because the filter now has 2 pulses\n",
    "res = signal.convolve(R1_eval, R2_eval, mode='same') / (.5 * sum(R2_eval))"
   ]
  },
  {
   "cell_type": "markdown",
   "metadata": {
    "colab_type": "text",
    "id": "kULW3_3jOQ5k"
   },
   "source": [
    "#### Plot the Results"
   ]
  },
  {
   "cell_type": "code",
   "execution_count": 7,
   "metadata": {
    "colab": {
     "base_uri": "https://localhost:8080/",
     "height": 297
    },
    "colab_type": "code",
    "id": "k_xKS-5POS8c",
    "outputId": "873f1d7c-8c5a-4230-cad9-37be7c4cf7cf"
   },
   "outputs": [
    {
     "data": {
      "image/png": "[encoded data removed]",
      "text/plain": [
       "<Figure size 432x288 with 3 Axes>"
      ]
     },
     "metadata": {
      "needs_background": "light"
     },
     "output_type": "display_data"
    }
   ],
   "source": [
    "fig, (ax_R1, ax_R2, ax_res) = plt.subplots(3, 1, sharex=True)\n",
    "\n",
    "ax_R1.plot(R1_eval)\n",
    "ax_R1.set_title('$R_{1}$: Moving')\n",
    "ax_R1.margins(0, 0.1)\n",
    "ax_R2.plot(R2_eval)\n",
    "ax_R2.set_title('$R_{2}$: Constraining')\n",
    "ax_R2.margins(0, 0.1)\n",
    "ax_res.plot(res)\n",
    "ax_res.set_title('Legal Placement')\n",
    "ax_res.margins(0, 0.1)\n",
    "fig.tight_layout()\n",
    "#fig.show()"
   ]
  },
  {
   "cell_type": "markdown",
   "metadata": {
    "colab_type": "text",
    "id": "qBT7fiuIPEoW"
   },
   "source": [
    "As seen above, this smaller $R_{1}$ fits _inside_ $R_{2}$.\n",
    "Restoring $R_{2}$'s orignial size from the first scenario, \n",
    "with $R_{1,l} = 100$ and $R_{1,r} = 200$, \n",
    "making it larger than the legal _gap_ inside $R_{2}$, shows that it can\n",
    "now only be placed outside of $R_{2}$"
   ]
  },
  {
   "cell_type": "code",
   "execution_count": 8,
   "metadata": {
    "colab": {},
    "colab_type": "code",
    "id": "lanaaHw3OVex"
   },
   "outputs": [],
   "source": [
    "R1 = lambda x: (1. * (x < 200)) - (1. * (x < 100))\n",
    "R2 = lambda x: ((1. * (x < 122)) - (1. * (x < 118)))\\\n",
    "             + ((1. * (x < 182)) - (1. * (x < 178)))\n",
    "\n",
    "t = np.arange(301)\n",
    "R1_eval = [R1(x_) for x_ in x]\n",
    "R2_eval = [R2(x_) for x_ in x]\n",
    "\n",
    "res = signal.convolve(R1_eval, R2_eval, mode='same') / (.5 * sum(R2_eval))"
   ]
  },
  {
   "cell_type": "markdown",
   "metadata": {
    "colab_type": "text",
    "id": "g4VG7RtniMSU"
   },
   "source": [
    "#### Plot the Result"
   ]
  },
  {
   "cell_type": "code",
   "execution_count": 9,
   "metadata": {
    "colab": {
     "base_uri": "https://localhost:8080/",
     "height": 297
    },
    "colab_type": "code",
    "id": "zobqugpaPPud",
    "outputId": "4558eb1e-8822-4698-de51-0383d6d2ce15"
   },
   "outputs": [
    {
     "data": {
      "image/png": "[encoded data removed]",
      "text/plain": [
       "<Figure size 432x288 with 3 Axes>"
      ]
     },
     "metadata": {
      "needs_background": "light"
     },
     "output_type": "display_data"
    }
   ],
   "source": [
    "fig, (ax_R1, ax_R2, ax_res) = plt.subplots(3, 1, sharex=True)\n",
    "\n",
    "ax_R1.plot(R1_eval)\n",
    "ax_R1.set_title('$R_{1}$: Moving')\n",
    "ax_R1.margins(0, 0.1)\n",
    "ax_R2.plot(R2_eval)\n",
    "ax_R2.set_title('$R_{2}$: Constraining')\n",
    "ax_R2.margins(0, 0.1)\n",
    "ax_res.plot(res)\n",
    "ax_res.set_title('Legal Placement')\n",
    "ax_res.margins(0, 0.1)\n",
    "fig.tight_layout()\n",
    "#fig.show()"
   ]
  },
  {
   "cell_type": "markdown",
   "metadata": {
    "colab_type": "text",
    "id": "YXNzjCl5XCo9"
   },
   "source": [
    "### Interpreting the Results\n",
    "\n",
    "This plot also shows, what happens if an operation violates \n",
    "more than one constraint.\n",
    "The value of `res` denotes the amount\n",
    "of constraints that are being violated at a given $x$. "
   ]
  },
  {
   "cell_type": "markdown",
   "metadata": {
    "colab_type": "text",
    "id": "1JOQrPqsI9ah"
   },
   "source": [
    "## 2D Convolution of 2 Rectangles\n",
    "\n",
    "`scipy` comes with the appropriate function to do 2D convolution much the same way.\n",
    "\n"
   ]
  },
  {
   "cell_type": "markdown",
   "metadata": {
    "colab_type": "text",
    "id": "zJcp0uTjyuPG"
   },
   "source": [
    "### Overlap\n",
    "\n",
    "Here $R_{1}$ is the rectangle that is moved across $2$D space, called the\n",
    "_filter_ or _kernel_. $R_{2}$ is constraining this operation, by only allowing\n",
    "$R_{1}$ to be placed where it doesn't overap.\n",
    "This particular $2$D space is defined as a $15 \\times 15$ grid.\n",
    "For simplification, $0$s denote empty / _legal_ grid space,\n",
    "and $1$ denotes the presence of a shape which may not be overlapped."
   ]
  },
  {
   "cell_type": "code",
   "execution_count": 10,
   "metadata": {
    "colab": {},
    "colab_type": "code",
    "id": "NqC_jeHRJTUy"
   },
   "outputs": [],
   "source": [
    "w,h = 15,15                             # Grid dimensions\n",
    "\n",
    "# The filter has to be centered within the grid.\n",
    "R1 = np.pad( np.ones([3, 3])            # 3x3 square matrix with 1 at each index describing the kernel\n",
    "           , (6, 6)                     # padding for 6 indices in each derection, for both axis\n",
    "           , 'constant'                 # padding with constant values\n",
    "           , constant_values=(0, 0) )   # these constant values are 0 for both axis\n",
    "\n",
    "R2 = np.zeros([w, h])                   # Empty base grid (0s)\n",
    "R2[6:9, 3:7] = 1                        # Place random rectangle\n",
    "\n",
    "res = signal.convolve2d(R1, R2, boundary='symm', mode='same')"
   ]
  },
  {
   "cell_type": "markdown",
   "metadata": {
    "colab_type": "text",
    "id": "CnAyBm0oKe4K"
   },
   "source": [
    "#### Plot the Results"
   ]
  },
  {
   "cell_type": "code",
   "execution_count": 11,
   "metadata": {
    "colab": {
     "base_uri": "https://localhost:8080/",
     "height": 169
    },
    "colab_type": "code",
    "id": "eFZqDMVzKi7y",
    "outputId": "9c3d943e-7602-43e6-d996-bd071d9dc89a"
   },
   "outputs": [
    {
     "data": {
      "image/png": "[encoded data removed]",
      "text/plain": [
       "<Figure size 432x288 with 3 Axes>"
      ]
     },
     "metadata": {
      "needs_background": "light"
     },
     "output_type": "display_data"
    }
   ],
   "source": [
    "fig, (ax_R1, ax_R2, ax_res) = plt.subplots(1, 3)\n",
    "\n",
    "ax_R1.set_aspect('equal')\n",
    "ax_R1.imshow(R1, interpolation='nearest')\n",
    "ax_R1.set_title('$R_{1}$: Moving')\n",
    "\n",
    "ax_R2.set_aspect('equal')\n",
    "ax_R2.imshow(R2, interpolation='nearest')\n",
    "ax_R2.set_title('$R_{2}$: Constraining')\n",
    "ax_res.set_aspect('equal')\n",
    "ax_res.imshow(res, interpolation='nearest')\n",
    "ax_res.set_title('Legal Placement for $R_{1}$')\n",
    "fig.tight_layout()\n",
    "#fig.show()"
   ]
  },
  {
   "cell_type": "markdown",
   "metadata": {
    "colab_type": "text",
    "id": "62tC0EdPP0Qe"
   },
   "source": [
    "# Symbolic Convolution with Sympy\n",
    "\n",
    "General information on symbolic integration with `sympy` can be found in the \n",
    "[documentation](https://docs.sympy.org/latest/modules/integrals/integrals.html?highlight=integrate#sympy.integrals.integrals.integrate)."
   ]
  },
  {
   "cell_type": "markdown",
   "metadata": {
    "colab_type": "text",
    "id": "2qppyVKRU_AF"
   },
   "source": [
    "## 1D Continuos Convolution\n",
    "\n",
    "$1$ Dimensional time continuous convolution is defined as\n",
    "\n",
    "$$ f(t) * g(t) = \\int^{\\infty}_{\\infty} f(\\tau) \\cdot g(t - \\tau) d\\tau $$\n",
    "\n",
    "Which can be expressed in Programatically as follows:"
   ]
  },
  {
   "cell_type": "code",
   "execution_count": 12,
   "metadata": {
    "colab": {},
    "colab_type": "code",
    "id": "eXSpm69xPUUu"
   },
   "outputs": [],
   "source": [
    "def convolve_1D(f, g, t, lower=-sym.oo, upper=sym.oo):\n",
    "    tau = sym.symbols('tau')\n",
    "    convolution = sym.integrate( f.subs(t, tau) * g.subs(t, t - tau)\n",
    "                               , (tau, lower, upper))\n",
    "    return convolution"
   ]
  },
  {
   "cell_type": "markdown",
   "metadata": {
    "colab_type": "text",
    "id": "rUbteB5MHwHy"
   },
   "source": [
    "Or shorter, however this implies that symbols `t` and `tau` are defined \n",
    "outside the function.\n",
    "Additionaly, this may cause problems when evaluating, \n",
    "because no integral limits are specified."
   ]
  },
  {
   "cell_type": "code",
   "execution_count": 13,
   "metadata": {
    "colab": {},
    "colab_type": "code",
    "id": "xTHoNm5SHSzI"
   },
   "outputs": [],
   "source": [
    "tau = sym.symbols('tau')\n",
    "t = sym.symbols('t')\n",
    "conv_1D = lambda f,g,t: sym.integrate(f.subs(t, tau) * g.subs(t, (t - tau)), tau)"
   ]
  },
  {
   "cell_type": "markdown",
   "metadata": {
    "colab_type": "text",
    "id": "---jyn3tL91o"
   },
   "source": [
    "Additionally, if $\\mathcal{F}$ denotes the _Fourier Transform Operator_,\n",
    "the convolution theorem states that:\n",
    "$$ f * g = \\mathcal{F}^{-1} \\{ \\mathcal{F}\\{f\\} \\cdot \\mathcal{F}\\{g\\}\\}$$\n",
    "Which can be expressed Programatically as follows:"
   ]
  },
  {
   "cell_type": "code",
   "execution_count": 14,
   "metadata": {
    "colab": {},
    "colab_type": "code",
    "id": "mlHQJnLlMrOn"
   },
   "outputs": [],
   "source": [
    "def convolve_1D_ft (f, g, t): \n",
    "    tau = sym.symbols('tau')\n",
    "    F = sym.fourier_transform(f, t, tau)\n",
    "    G = sym.fourier_transform(g, t, tau)\n",
    "    FG = sym.simplify(F * G)\n",
    "    return sym.inverse_fourier_transform(FG, tau, t)"
   ]
  },
  {
   "cell_type": "markdown",
   "metadata": {
    "colab_type": "text",
    "id": "wRqccL3Pklgt"
   },
   "source": [
    "### Overlap\n",
    "\n",
    "When pretending that a Rectangle moving in space is a\n",
    "signal moving in time, the same scenario as in the previous section, \n",
    "can no be described symbolicaly with `sympy`.\n",
    "\n",
    "Unfortunately because of \n",
    "[a bug](https://github.com/sympy/sympy/issues/18636) \n",
    "sympy is currently unable to resolve the `Heaviside` name to \n",
    "the corresponding `numpy` function. \n",
    "So substitution has to be done manually instead of _lambdifying_."
   ]
  },
  {
   "cell_type": "code",
   "execution_count": 17,
   "metadata": {
    "colab": {},
    "colab_type": "code",
    "id": "NAEG1nAmajme"
   },
   "outputs": [
    {
     "name": "stdout",
     "output_type": "stream",
     "text": [
      "-(t - 350.0)⋅θ(350.0 - t)⋅θ(450.0 - t) + (t - 340.0)⋅θ(340.0 - t)⋅θ(440.0 - t)\n",
      " + (t - 250.0)⋅θ(250.0 - t)⋅θ(450.0 - t) - (t - 240.0)⋅θ(240.0 - t)⋅θ(440.0 - \n",
      "t) + ((t - 350.0)⋅θ(350.0 - t) + 200.0)⋅θ(150.0 - t) - ((t - 340.0)⋅θ(340.0 - \n",
      "t) + 200.0)⋅θ(140.0 - t) - ((t - 250.0)⋅θ(250.0 - t) + 100.0)⋅θ(150.0 - t) + (\n",
      "(t - 240.0)⋅θ(240.0 - t) + 100.0)⋅θ(140.0 - t)\n"
     ]
    }
   ],
   "source": [
    "t = sym.symbols('t')\n",
    "\n",
    "R1 = sym.Heaviside(200. - t) - sym.Heaviside(100. - t)\n",
    "R2 = sym.Heaviside(150. - t) - sym.Heaviside(140. - t)\n",
    "\n",
    "res = convolve_1D(R1, R2, t, lower=0., upper=300.)\n",
    "res = sym.simplify(res)\n",
    "\n",
    "# This doesn't work because of issue #18636\n",
    "# see github: https://github.com/sympy/sympy/issues/18636\n",
    "# This bug may be fixed in future versions of sympy\n",
    "#R1_lamb = sym.lambdify(t, R1, modules=['numpy'])\n",
    "#R2_lamb = sym.lambdify(t, R2, modules=['numpy'])\n",
    "\n",
    "# So it has to be done this way ¯\\_(ツ)_/¯ \n",
    "t_vals = np.linspace(0,300, num=300)\n",
    "R1_eval = [R1.subs(t,t_) for t_ in t_vals]\n",
    "R2_eval = [R2.subs(t,t_) for t_ in t_vals]\n",
    "\n",
    "# +150 is necessary because the base signal R1 wasn't 0 centered and\n",
    "# convolve_1D has no \"mode='same'\" option (yet).\n",
    "\n",
    "res_eval = [res.subs(t,t_+150) for t_ in t_vals]"
   ]
  },
  {
   "cell_type": "markdown",
   "metadata": {
    "colab_type": "text",
    "id": "gjhlaocFGoLG"
   },
   "source": [
    "#### Plot the Results"
   ]
  },
  {
   "cell_type": "code",
   "execution_count": 18,
   "metadata": {
    "colab": {
     "base_uri": "https://localhost:8080/",
     "height": 297
    },
    "colab_type": "code",
    "id": "vNUmoIyUDv6p",
    "outputId": "bf15aa54-8138-41ee-cdd7-5892bfeab11c"
   },
   "outputs": [
    {
     "data": {
      "image/png": "[encoded data removed]",
      "text/plain": [
       "<Figure size 432x288 with 3 Axes>"
      ]
     },
     "metadata": {
      "needs_background": "light"
     },
     "output_type": "display_data"
    }
   ],
   "source": [
    "fig, (ax_R1, ax_R2, ax_res) = plt.subplots(3, 1, sharex=True)\n",
    "\n",
    "ax_R1.plot(R1_eval)\n",
    "ax_R1.set_title('$R_{1}$: Moving')\n",
    "ax_R1.margins(0, 0.1)\n",
    "ax_R2.plot(R2_eval)\n",
    "ax_R2.set_title('$R_{2}$: Constraining')\n",
    "ax_R2.margins(0, 0.1)\n",
    "ax_res.plot(res_eval)\n",
    "ax_res.set_title('Legal Placement')\n",
    "ax_res.margins(0, 0.1)\n",
    "fig.tight_layout()\n",
    "#fig.show()"
   ]
  },
  {
   "cell_type": "markdown",
   "metadata": {
    "colab_type": "text",
    "id": "Zojnu4S8r1D-"
   },
   "source": [
    "#### Examin the Result\n",
    "\n",
    "The result does not have to be evaluated, it can\n",
    "be examined symbolicaly as well."
   ]
  },
  {
   "cell_type": "code",
   "execution_count": 19,
   "metadata": {
    "colab": {
     "base_uri": "https://localhost:8080/",
     "height": 136
    },
    "colab_type": "code",
    "id": "p_CBYMpZruot",
    "outputId": "67a41c73-13ed-4124-e167-2ef51ee0368c"
   },
   "outputs": [
    {
     "name": "stdout",
     "output_type": "stream",
     "text": [
      "-(t - 350.0)⋅θ(350.0 - t)⋅θ(450.0 - t) + (t - 340.0)⋅θ(340.0 - t)⋅θ(440.0 - t)\n",
      " + (t - 250.0)⋅θ(250.0 - t)⋅θ(450.0 - t) - (t - 240.0)⋅θ(240.0 - t)⋅θ(440.0 - \n",
      "t) + ((t - 350.0)⋅θ(350.0 - t) + 200.0)⋅θ(150.0 - t) - ((t - 340.0)⋅θ(340.0 - \n",
      "t) + 200.0)⋅θ(140.0 - t) - ((t - 250.0)⋅θ(250.0 - t) + 100.0)⋅θ(150.0 - t) + (\n",
      "(t - 240.0)⋅θ(240.0 - t) + 100.0)⋅θ(140.0 - t)\n"
     ]
    }
   ],
   "source": [
    "sym.pretty_print(res)"
   ]
  },
  {
   "cell_type": "markdown",
   "metadata": {
    "colab_type": "text",
    "id": "aSakx7dkep-q"
   },
   "source": [
    "### Symbolic Fourier Transform\n",
    "\n",
    "Using scipy's `FFT` is much faster for defined intervalls. A symbolic Fourier Transform\n",
    "is onl"
   ]
  },
  {
   "cell_type": "markdown",
   "metadata": {
    "colab_type": "text",
    "id": "JNvMDqWMR87V"
   },
   "source": [
    "# Feature Checklist\n",
    "\n",
    "- [X] 1D Numeric Overlap\n",
    "- [X] 1D Numeric Edge Distance\n",
    "- [ ] 1D Numeric Stretch Operation\n",
    "- [X] 2D Numeric Overlap\n",
    "- [ ] 2D Numeric Edge Distance\n",
    "- [ ] 2D Numeric Stretch Operation\n",
    "- [X] 1D Symbolic with integration\n",
    "- [X] 1D Symbolic with fourier transform\n",
    "- [ ] Fix recursion error when calling $\\mathcal{F}^{-1}$\n",
    "- [X] 1D Symbolic Overlap\n",
    "- [ ] 1D Symbolic Edge Distance\n",
    "- [ ] 1D Symbolic Stretch Operation\n",
    "- [X] Mention `sympy` `lambdify` bug for `Heaviside`\n",
    "- [ ] Implement 'same' option for `conv_1D` function\n",
    "- [X] Mention boolean value multiplication behaviour when evaluating `sympy` functions\n",
    "- [ ] 2D Symbolic with integration\n",
    "- [ ] 2D Symbolic with fourier transform\n",
    "- [ ] 2D Symbolic Overlap\n",
    "- [ ] 2D Symbolic Edge Distance\n",
    "- [ ] 2D Symbolic Stretch Operation"
   ]
  },
  {
   "cell_type": "code",
   "execution_count": null,
   "metadata": {
    "colab": {},
    "colab_type": "code",
    "id": "NNy5-79PfM6L"
   },
   "outputs": [],
   "source": []
  }
 ],
 "metadata": {
  "colab": {
   "collapsed_sections": [],
   "name": "conv.ipynb",
   "provenance": []
  },
  "kernelspec": {
   "display_name": "Python 3",
   "language": "python",
   "name": "python3"
  },
  "language_info": {
   "codemirror_mode": {
    "name": "ipython",
    "version": 3
   },
   "file_extension": ".py",
   "mimetype": "text/x-python",
   "name": "python",
   "nbconvert_exporter": "python",
   "pygments_lexer": "ipython3",
   "version": "3.8.2"
  }
 },
 "nbformat": 4,
 "nbformat_minor": 4
}
